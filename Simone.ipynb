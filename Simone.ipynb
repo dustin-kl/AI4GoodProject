{
 "cells": [
  {
   "cell_type": "code",
   "execution_count": 1,
   "id": "747b3047-f9a1-4e67-818f-e9801ce43182",
   "metadata": {},
   "outputs": [],
   "source": [
    "import os\n",
    "import math"
   ]
  },
  {
   "cell_type": "code",
   "execution_count": 2,
   "id": "5c023a2e-fea6-4982-acf3-373ad10bf3b6",
   "metadata": {},
   "outputs": [],
   "source": [
    "import torch\n",
    "import torch.nn as nn\n",
    "import torch.nn.functional as F"
   ]
  },
  {
   "cell_type": "code",
   "execution_count": 3,
   "id": "e2c2f703-2240-4c54-a89d-b8dfdf323805",
   "metadata": {},
   "outputs": [],
   "source": [
    "import pytorch_lightning as pl\n",
    "from pytorch_lightning.callbacks import EarlyStopping, ModelCheckpoint, RichModelSummary, RichProgressBar\n",
    "from pytorch_lightning.loggers import TensorBoardLogger, WandbLogger\n",
    "from pytorch_lightning import Trainer"
   ]
  },
  {
   "cell_type": "code",
   "execution_count": 4,
   "id": "4863996c-8e6d-4679-993b-8d5da364259c",
   "metadata": {},
   "outputs": [],
   "source": [
    "from src.data_module import ClimateNetDataModule\n",
    "from src.models.baseline import DeepLabv3_plus\n",
    "from src.utils import Generic\n",
    "from src.metrics import iou"
   ]
  },
  {
   "cell_type": "code",
   "execution_count": 5,
   "id": "bdbc561b-e215-4d38-ab74-93e08d1fa3f6",
   "metadata": {},
   "outputs": [
    {
     "data": {
      "text/plain": [
       "['../autodl-nas/ClimateNet/data-2002-03-31-01-1_4.nc',\n",
       " '../autodl-nas/ClimateNet/data-1997-08-29-01-1_0.nc',\n",
       " '../autodl-nas/ClimateNet/data-2001-10-29-01-1_2.nc',\n",
       " '../autodl-nas/ClimateNet/data-2003-08-04-01-1_1.nc',\n",
       " '../autodl-nas/ClimateNet/data-2011-08-08-01-1_1.nc',\n",
       " '../autodl-nas/ClimateNet/data-2006-10-15-01-1_4.nc',\n",
       " '../autodl-nas/ClimateNet/data-2001-10-29-01-1_3.nc',\n",
       " '../autodl-nas/ClimateNet/data-2010-07-05-01-1_0.nc',\n",
       " '../autodl-nas/ClimateNet/data-1999-09-03-01-1_0.nc',\n",
       " '../autodl-nas/ClimateNet/data-2010-09-09-01-1_0.nc']"
      ]
     },
     "execution_count": 5,
     "metadata": {},
     "output_type": "execute_result"
    }
   ],
   "source": [
    "data_dir = \"../autodl-nas/ClimateNet/\"\n",
    "files = Generic.list_files(data_dir)\n",
    "files[:10]"
   ]
  },
  {
   "cell_type": "code",
   "execution_count": 6,
   "id": "bb6fa996-9841-4af5-a43f-e7641db80ed1",
   "metadata": {},
   "outputs": [
    {
     "data": {
      "text/plain": [
       "['TMQ', 'U850', 'V850', 'PRECT']"
      ]
     },
     "execution_count": 6,
     "metadata": {},
     "output_type": "execute_result"
    }
   ],
   "source": [
    "feature_list = [\"TMQ\", \"U850\", \"V850\", \"PRECT\"]\n",
    "feature_list"
   ]
  },
  {
   "cell_type": "code",
   "execution_count": 7,
   "id": "8d4d287e-5d60-4244-a55e-8bab033bfbdb",
   "metadata": {},
   "outputs": [],
   "source": [
    "data_module = ClimateNetDataModule(files, feature_list, 16, num_workers=4, shuffle=True)"
   ]
  },
  {
   "cell_type": "markdown",
   "id": "868c6616-516f-4290-9159-c24e5560a6ff",
   "metadata": {},
   "source": [
    "# DeepLabV3+ with Attention"
   ]
  },
  {
   "cell_type": "code",
   "execution_count": 8,
   "id": "cdf24851-6b96-4f1b-9cf6-e4fe27f1c695",
   "metadata": {},
   "outputs": [],
   "source": [
    "def fixed_padding(inputs, kernel_size, rate):\n",
    "    kernel_size_effective = kernel_size + (kernel_size - 1) * (rate - 1)\n",
    "    pad_total = kernel_size_effective - 1\n",
    "    pad_beg = pad_total // 2\n",
    "    pad_end = pad_total - pad_beg\n",
    "    padded_inputs = F.pad(inputs, (pad_beg, pad_end, pad_beg, pad_end))\n",
    "    return padded_inputs"
   ]
  },
  {
   "cell_type": "code",
   "execution_count": 9,
   "id": "01df5d01-0f1c-459c-aab0-d3d4599c67f7",
   "metadata": {},
   "outputs": [],
   "source": [
    "class SeparableConv2d(pl.LightningModule):\n",
    "    def __init__(self, in_channels, out_channels):\n",
    "        super().__init__()\n",
    "        self.depthwise = nn.Conv2d(in_channels, in_channels, 3, groups=in_channels, bias=False)\n",
    "        self.pointwise = nn.Conv2d(in_channels, out_channels, 1, bias=False)\n",
    "    \n",
    "    def forward(self, x):\n",
    "        x = fixed_padding(x, 3, 1)\n",
    "        x = self.depthwise(x)\n",
    "        x = self.pointwise(x)\n",
    "        return x"
   ]
  },
  {
   "cell_type": "code",
   "execution_count": 10,
   "id": "58174c00-755d-452c-9f4d-3cc9386e6263",
   "metadata": {},
   "outputs": [],
   "source": [
    "class EntryBlock(pl.LightningModule):\n",
    "    def __init__(self, in_channels, out_channels):\n",
    "        super().__init__()\n",
    "        \n",
    "        self.s_conv1 = SeparableConv2d(in_channels, out_channels)\n",
    "        self.bn1 = nn.BatchNorm2d(out_channels)\n",
    "        \n",
    "        self.relu2 = nn.ReLU()\n",
    "        self.s_conv2 = SeparableConv2d(out_channels, out_channels)\n",
    "        self.bn2 = nn.BatchNorm2d(out_channels)\n",
    "        \n",
    "        self.mp3 = nn.MaxPool2d(3, stride=2, padding=1)\n",
    "        \n",
    "        self.conv = nn.Conv2d(in_channels, out_channels, 1, stride=2, bias=False)\n",
    "        self.bn = nn.BatchNorm2d(out_channels)\n",
    "        \n",
    "    def forward(self, x):\n",
    "        x1 = self.conv(x)\n",
    "        x1 = self.bn(x1)\n",
    "        \n",
    "        x2 = self.s_conv1(x)\n",
    "        x2 = self.bn1(x2)\n",
    "        x2 = self.relu2(x2)\n",
    "        x2 = self.s_conv2(x2)\n",
    "        x2 = self.bn2(x2)\n",
    "        x2 = self.mp3(x2)\n",
    "        \n",
    "        return x1 + x2\n",
    "    \n",
    "class MiddleBlock(pl.LightningModule):\n",
    "    def __init__(self, channels):\n",
    "        super().__init__()\n",
    "        \n",
    "        self.relu1 = nn.ReLU()\n",
    "        self.s_conv1 = SeparableConv2d(channels, channels)\n",
    "        self.bn1 = nn.BatchNorm2d(channels)\n",
    "        \n",
    "        self.relu2 = nn.ReLU()\n",
    "        self.s_conv2 = SeparableConv2d(channels, channels)\n",
    "        self.bn2 = nn.BatchNorm2d(channels)\n",
    "        \n",
    "        self.relu3 = nn.ReLU()\n",
    "        self.s_conv3 = SeparableConv2d(channels, channels)\n",
    "        self.bn3 = nn.BatchNorm2d(channels)\n",
    "                \n",
    "    def forward(self, x):\n",
    "        x1 = x\n",
    "        \n",
    "        x2 = self.relu1(x)\n",
    "        x2 = self.s_conv1(x2)\n",
    "        x2 = self.bn1(x2)\n",
    "        x2 = self.relu2(x)\n",
    "        x2 = self.s_conv2(x2)\n",
    "        x2 = self.bn2(x2)\n",
    "        x2 = self.relu3(x)\n",
    "        x2 = self.s_conv3(x2)\n",
    "        x2 = self.bn3(x2)\n",
    "        \n",
    "        return x1 + x2\n",
    "    \n",
    "class ExitBlock(pl.LightningModule):\n",
    "    def __init__(self, in_channels, out_channels):\n",
    "        super().__init__()\n",
    "        \n",
    "        self.relu1 = nn.ReLU()\n",
    "        self.s_conv1 = SeparableConv2d(in_channels, in_channels)\n",
    "        self.bn1 = nn.BatchNorm2d(in_channels)\n",
    "        \n",
    "        self.relu2 = nn.ReLU()\n",
    "        self.s_conv2 = SeparableConv2d(in_channels, out_channels)\n",
    "        self.bn2 = nn.BatchNorm2d(out_channels)\n",
    "        \n",
    "        self.mp3 = nn.MaxPool2d(3, stride=2, padding=1)\n",
    "        \n",
    "        self.conv = nn.Conv2d(in_channels, out_channels, 1, stride=2, bias=False)\n",
    "        self.bn = nn.BatchNorm2d(out_channels)\n",
    "        \n",
    "    def forward(self, x):\n",
    "        x1 = self.conv(x)\n",
    "        x1 = self.bn(x1)\n",
    "        \n",
    "        x2 = self.relu1(x)\n",
    "        x2 = self.s_conv1(x2)\n",
    "        x2 = self.bn1(x2)\n",
    "        x2 = self.relu2(x)\n",
    "        x2 = self.s_conv2(x2)\n",
    "        x2 = self.bn2(x2)\n",
    "        x2 = self.mp3(x2)\n",
    "        \n",
    "        return x1 + x2"
   ]
  },
  {
   "cell_type": "code",
   "execution_count": 11,
   "id": "6a9ee57d-1a94-4a27-b500-197914f57e3a",
   "metadata": {},
   "outputs": [],
   "source": [
    "class EntryFlow(pl.LightningModule):\n",
    "    def __init__(self, in_channels):\n",
    "        super().__init__()\n",
    "        \n",
    "        self.conv1 = nn.Conv2d(in_channels, 32, 3, stride=2, bias=False)\n",
    "        self.bn1 = nn.BatchNorm2d(32)\n",
    "        self.relu1 = nn.ReLU()\n",
    "            \n",
    "        self.conv2 = nn.Conv2d(32, 64, 3, stride=2, bias=False)\n",
    "        self.bn2 = nn.BatchNorm2d(64)\n",
    "        self.relu2 = nn.ReLU()\n",
    "            \n",
    "        self.block3 = EntryBlock(64, 128)\n",
    "        self.block4 = EntryBlock(128, 256)\n",
    "        self.block5 = EntryBlock(256, 728)        \n",
    "        \n",
    "    def forward(self, x):\n",
    "        x = self.conv1(x)\n",
    "        x = self.bn1(x)\n",
    "        x = self.relu1(x)\n",
    "        x = self.conv2(x)\n",
    "        x = self.bn2(x)\n",
    "        x = self.relu2(x)\n",
    "        x1 = x2 = self.block3(x)\n",
    "        x1 = x3 = self.block4(x1)\n",
    "        x1 = self.block5(x1)\n",
    "        \n",
    "        return x1, x3, x2\n",
    "    \n",
    "class MiddleFlow(pl.LightningModule):\n",
    "    def __init__(self):\n",
    "        super().__init__()\n",
    "        \n",
    "        self.sequential = nn.Sequential(\n",
    "            MiddleBlock(728),\n",
    "            MiddleBlock(728),\n",
    "            MiddleBlock(728),\n",
    "            MiddleBlock(728),\n",
    "            MiddleBlock(728),\n",
    "            MiddleBlock(728),\n",
    "            MiddleBlock(728),\n",
    "            MiddleBlock(728),\n",
    "            MiddleBlock(728),\n",
    "            MiddleBlock(728),\n",
    "            MiddleBlock(728),\n",
    "            MiddleBlock(728),\n",
    "            MiddleBlock(728),\n",
    "            MiddleBlock(728),\n",
    "            MiddleBlock(728),\n",
    "            MiddleBlock(728)\n",
    "        )\n",
    "        \n",
    "    def forward(self, x):\n",
    "        return self.sequential(x)\n",
    "    \n",
    "class ExitFlow(pl.LightningModule):\n",
    "    def __init__(self):\n",
    "        super().__init__()\n",
    "        \n",
    "        self.block = ExitBlock(728, 1024)\n",
    "        self.sequential = nn.Sequential(\n",
    "            SeparableConv2d(1024, 1536),\n",
    "            nn.BatchNorm2d(1536),\n",
    "            nn.ReLU(),\n",
    "            SeparableConv2d(1536, 2048),\n",
    "            nn.BatchNorm2d(2048),\n",
    "            nn.ReLU(),\n",
    "        )\n",
    "        \n",
    "        \n",
    "    def forward(self, x):\n",
    "        x1 = x2 = self.block(x)\n",
    "        x1 = self.sequential(x1)\n",
    "        return x1, x2\n",
    "    \n",
    "class Xception(pl.LightningModule):\n",
    "    def __init__(self, in_channels):\n",
    "        super().__init__()\n",
    "        \n",
    "        self.entry = EntryFlow(in_channels)\n",
    "        self.middle = MiddleFlow()\n",
    "        self.exit = ExitFlow()\n",
    "        \n",
    "    def forward(self, x):\n",
    "        x1, x2, x3 = self.entry(x)\n",
    "        x1 = x4 = self.middle(x1)\n",
    "        x1, x5 = self.exit(x1)\n",
    "        \n",
    "        return x1, x5, x4, x2, x3"
   ]
  },
  {
   "cell_type": "code",
   "execution_count": 12,
   "id": "2373d9e8-66c7-4a88-a0e1-1bc348558da8",
   "metadata": {},
   "outputs": [],
   "source": [
    "class AstrousConv2d(pl.LightningModule):\n",
    "    def __init__(self, in_channels, out_channels, rate):\n",
    "        super().__init__()\n",
    "        \n",
    "        if rate == 1:\n",
    "            padding = 0\n",
    "            kernel_size = 1\n",
    "        else:\n",
    "            padding = rate\n",
    "            kernel_size = 3\n",
    "        \n",
    "        self.sequential = nn.Sequential(\n",
    "            nn.Conv2d(in_channels, out_channels, kernel_size, padding=padding, dilation=rate, bias=False),\n",
    "            nn.BatchNorm2d(out_channels),\n",
    "            nn.ReLU()\n",
    "        )\n",
    "        \n",
    "    def forward(self, x):\n",
    "        return self.sequential(x)\n",
    "    \n",
    "class ASPP(pl.LightningModule):\n",
    "    def __init__(self, in_channels, out_channels, rates):\n",
    "        super().__init__()\n",
    "        \n",
    "        self.astrous1 = AstrousConv2d(in_channels, out_channels, rates[0])\n",
    "        self.astrous2 = AstrousConv2d(in_channels, out_channels, rates[1])\n",
    "        self.astrous3 = AstrousConv2d(in_channels, out_channels, rates[2])\n",
    "        self.astrous4 = AstrousConv2d(in_channels, out_channels, rates[3])\n",
    "        self.ap = nn.Sequential(\n",
    "            nn.AdaptiveAvgPool2d(1),\n",
    "            nn.Conv2d(in_channels, out_channels, kernel_size=1, bias=False),\n",
    "            nn.BatchNorm2d(out_channels),\n",
    "            nn.ReLU()\n",
    "        )\n",
    "        self.sequential = nn.Sequential(\n",
    "            nn.Conv2d(out_channels * 5, out_channels, 1, bias=False),\n",
    "            nn.BatchNorm2d(out_channels),\n",
    "            nn.ReLU()\n",
    "        )\n",
    "        mid_channels = (out_channels * 5) // 16\n",
    "        self.se_block = nn.Sequential(\n",
    "            nn.AdaptiveAvgPool2d(1),\n",
    "            nn.Conv2d(out_channels * 5, mid_channels, 1, bias=False),\n",
    "            nn.ReLU(),\n",
    "            nn.Conv2d(mid_channels, out_channels * 5, 1, bias=False),\n",
    "            nn.Sigmoid()\n",
    "        )\n",
    "        \n",
    "    def forward(self, x):\n",
    "        x1 = self.astrous1(x)\n",
    "        x2 = self.astrous2(x)\n",
    "        x3 = self.astrous3(x)\n",
    "        x4 = self.astrous4(x)\n",
    "        x5 = self.ap(x)\n",
    "        x5 = F.interpolate(x5, size=x4.size()[2:], mode=\"bilinear\", align_corners=True)\n",
    "        \n",
    "        x = torch.cat((x1, x2, x3, x4, x5), dim=1)\n",
    "        w = self.se_block(x)\n",
    "        x = x * w\n",
    "        x = self.sequential(x)\n",
    "        \n",
    "        \n",
    "        return x"
   ]
  },
  {
   "cell_type": "code",
   "execution_count": 21,
   "id": "fda588ed-9e00-456f-9c44-8bfc86cedec7",
   "metadata": {},
   "outputs": [],
   "source": [
    "class Model(pl.LightningModule):\n",
    "    def __init__(self, out_channels, encoder_channels=[2048, 1024, 728, 256, 128], aspp_out=256, rates=[1, 6, 12, 18]):\n",
    "        super().__init__()        \n",
    "        self.encoder = Xception(4)\n",
    "        \n",
    "        self.aspp1 = ASPP(encoder_channels[0], aspp_out, rates)\n",
    "        self.aspp2 = ASPP(encoder_channels[1], aspp_out, rates)\n",
    "        self.aspp3 = ASPP(encoder_channels[2], aspp_out, rates)\n",
    "        self.aspp4 = ASPP(encoder_channels[3], aspp_out, rates)\n",
    "        \n",
    "        self.conv1 = nn.Conv2d(4 * aspp_out, aspp_out, 1, bias=False)\n",
    "        self.bn1 = nn.BatchNorm2d(aspp_out)\n",
    "        self.relu1 = nn.ReLU()\n",
    "        \n",
    "        self.conv2 = nn.Conv2d(128, 48, 1, bias=False)\n",
    "        self.bn2 = nn.BatchNorm2d(48)\n",
    "        self.relu2 = nn.ReLU()\n",
    "        \n",
    "        self.last_conv = nn.Sequential(\n",
    "            nn.Conv2d(304, 256, kernel_size=3, stride=1, padding=1, bias=False),\n",
    "            nn.BatchNorm2d(256),\n",
    "            nn.ReLU(),\n",
    "            nn.Dropout(0.5),\n",
    "            nn.Conv2d(256, 256, kernel_size=3, stride=1, padding=1, bias=False),\n",
    "            nn.BatchNorm2d(256),\n",
    "            nn.ReLU(),\n",
    "            nn.Dropout(0.5),\n",
    "            nn.Conv2d(256, out_channels, kernel_size=1, stride=1, bias=False),\n",
    "        )\n",
    "        \n",
    "    def forward(self, x):\n",
    "        in_size = x.size()\n",
    "        \n",
    "        x1, x2, x3, x4, x5 = self.encoder(x)\n",
    "        x1 = self.aspp1(x1)\n",
    "        x2 = self.aspp2(x2)\n",
    "        x2 = F.interpolate(x2, size=x1.size()[2:], mode=\"bilinear\", align_corners=True)\n",
    "        x3 = self.aspp3(x3)\n",
    "        x3 = F.interpolate(x3, size=x1.size()[2:], mode=\"bilinear\", align_corners=True)\n",
    "        x4 = self.aspp4(x4)\n",
    "        x4 = F.interpolate(x4, size=x1.size()[2:], mode=\"bilinear\", align_corners=True)\n",
    "        \n",
    "        x = torch.cat((x1, x2, x3, x4), dim=1)\n",
    "        x = self.conv1(x)\n",
    "        x = self.bn1(x)\n",
    "        x = self.relu1(x)\n",
    "        \n",
    "        x = F.interpolate(x, size=x5.size()[2:], mode=\"bilinear\", align_corners=True)\n",
    "        \n",
    "        x5 = self.conv2(x5)\n",
    "        x5 = self.bn2(x5)\n",
    "        x5 = self.relu2(x5)\n",
    "        \n",
    "        x = torch.cat((x, x5), dim=1)\n",
    "        \n",
    "        x = self.last_conv(x)\n",
    "        \n",
    "        x = F.interpolate(x, size=in_size[2:], mode=\"bilinear\", align_corners=True)\n",
    "        \n",
    "        return x\n",
    "    \n",
    "    def training_step(self, batch, batch_idx):\n",
    "        x, y = batch\n",
    "        y_hat = self(x)\n",
    "        loss = F.cross_entropy(y_hat, y)\n",
    "        return loss\n",
    "\n",
    "    def validation_step(self, batch, batch_idx):\n",
    "        loss, bg_iou, tc_iou, ar_iou = self._shared_eval_step(batch, batch_idx)\n",
    "        mean_iou = (bg_iou + tc_iou + ar_iou) / 3\n",
    "        metrics = {\n",
    "            \"val_loss\": loss.item(),\n",
    "            \"val_bg_iou\": bg_iou.item(),\n",
    "            \"val_tc_iou\": tc_iou.item(),\n",
    "            \"val_ar_iou\": ar_iou.item(),\n",
    "            \"val_mean_iou\": mean_iou.item(),\n",
    "        }\n",
    "        self.log_dict(metrics)\n",
    "        return metrics\n",
    "\n",
    "    def _shared_eval_step(self, batch, batch_idx):\n",
    "        x, y = batch\n",
    "        y_hat = self(x)\n",
    "        loss = F.cross_entropy(y_hat, y)\n",
    "        bg_iou, tc_iou, ar_iou = iou(y, y_hat)\n",
    "        return loss, bg_iou, tc_iou, ar_iou\n",
    "    \n",
    "    def configure_optimizers(self):\n",
    "        return torch.optim.Adam(self.parameters())"
   ]
  },
  {
   "cell_type": "code",
   "execution_count": 30,
   "id": "04fa1dde-a67e-46af-a241-f67ba67bdc63",
   "metadata": {},
   "outputs": [
    {
     "data": {
      "application/vnd.jupyter.widget-view+json": {
       "model_id": "1cd094138c2c4d48802c6e6dc546771d",
       "version_major": 2,
       "version_minor": 0
      },
      "text/plain": [
       "VBox(children=(Label(value='Waiting for wandb.init()...\\r'), FloatProgress(value=0.01667033229023218, max=1.0)…"
      ]
     },
     "metadata": {},
     "output_type": "display_data"
    },
    {
     "data": {
      "text/html": [
       "Tracking run with wandb version 0.13.5"
      ],
      "text/plain": [
       "<IPython.core.display.HTML object>"
      ]
     },
     "metadata": {},
     "output_type": "display_data"
    },
    {
     "data": {
      "text/html": [
       "Run data is saved locally in <code>./wandb/run-20221201_093747-s6t53em8</code>"
      ],
      "text/plain": [
       "<IPython.core.display.HTML object>"
      ]
     },
     "metadata": {},
     "output_type": "display_data"
    },
    {
     "data": {
      "text/html": [
       "Syncing run <strong><a href=\"https://wandb.ai/zhf231298/ClimateNet/runs/s6t53em8\" target=\"_blank\">absurd-surf-2</a></strong> to <a href=\"https://wandb.ai/zhf231298/ClimateNet\" target=\"_blank\">Weights & Biases</a> (<a href=\"https://wandb.me/run\" target=\"_blank\">docs</a>)<br/>"
      ],
      "text/plain": [
       "<IPython.core.display.HTML object>"
      ]
     },
     "metadata": {},
     "output_type": "display_data"
    },
    {
     "name": "stderr",
     "output_type": "stream",
     "text": [
      "Using 16bit native Automatic Mixed Precision (AMP)\n",
      "Trainer already configured with model summary callbacks: [<class 'pytorch_lightning.callbacks.rich_model_summary.RichModelSummary'>]. Skipping setting a default `ModelSummary` callback.\n",
      "GPU available: True (cuda), used: True\n",
      "TPU available: False, using: 0 TPU cores\n",
      "IPU available: False, using: 0 IPUs\n",
      "HPU available: False, using: 0 HPUs\n",
      "LOCAL_RANK: 0 - CUDA_VISIBLE_DEVICES: [0]\n"
     ]
    },
    {
     "data": {
      "text/html": [
       "<pre style=\"white-space:pre;overflow-x:auto;line-height:normal;font-family:Menlo,'DejaVu Sans Mono',consolas,'Courier New',monospace\">┏━━━━┳━━━━━━━━━━━┳━━━━━━━━━━━━━┳━━━━━━━━┓\n",
       "┃<span style=\"color: #800080; text-decoration-color: #800080; font-weight: bold\">    </span>┃<span style=\"color: #800080; text-decoration-color: #800080; font-weight: bold\"> Name      </span>┃<span style=\"color: #800080; text-decoration-color: #800080; font-weight: bold\"> Type        </span>┃<span style=\"color: #800080; text-decoration-color: #800080; font-weight: bold\"> Params </span>┃\n",
       "┡━━━━╇━━━━━━━━━━━╇━━━━━━━━━━━━━╇━━━━━━━━┩\n",
       "│<span style=\"color: #7f7f7f; text-decoration-color: #7f7f7f\"> 0  </span>│ encoder   │ Xception    │ 33.7 M │\n",
       "│<span style=\"color: #7f7f7f; text-decoration-color: #7f7f7f\"> 1  </span>│ aspp1     │ ASPP        │ 15.7 M │\n",
       "│<span style=\"color: #7f7f7f; text-decoration-color: #7f7f7f\"> 2  </span>│ aspp2     │ ASPP        │  8.1 M │\n",
       "│<span style=\"color: #7f7f7f; text-decoration-color: #7f7f7f\"> 3  </span>│ aspp3     │ ASPP        │  5.9 M │\n",
       "│<span style=\"color: #7f7f7f; text-decoration-color: #7f7f7f\"> 4  </span>│ aspp4     │ ASPP        │  2.4 M │\n",
       "│<span style=\"color: #7f7f7f; text-decoration-color: #7f7f7f\"> 5  </span>│ conv1     │ Conv2d      │  262 K │\n",
       "│<span style=\"color: #7f7f7f; text-decoration-color: #7f7f7f\"> 6  </span>│ bn1       │ BatchNorm2d │    512 │\n",
       "│<span style=\"color: #7f7f7f; text-decoration-color: #7f7f7f\"> 7  </span>│ relu1     │ ReLU        │      0 │\n",
       "│<span style=\"color: #7f7f7f; text-decoration-color: #7f7f7f\"> 8  </span>│ conv2     │ Conv2d      │  6.1 K │\n",
       "│<span style=\"color: #7f7f7f; text-decoration-color: #7f7f7f\"> 9  </span>│ bn2       │ BatchNorm2d │     96 │\n",
       "│<span style=\"color: #7f7f7f; text-decoration-color: #7f7f7f\"> 10 </span>│ relu2     │ ReLU        │      0 │\n",
       "│<span style=\"color: #7f7f7f; text-decoration-color: #7f7f7f\"> 11 </span>│ last_conv │ Sequential  │  1.3 M │\n",
       "└────┴───────────┴─────────────┴────────┘\n",
       "</pre>\n"
      ],
      "text/plain": [
       "┏━━━━┳━━━━━━━━━━━┳━━━━━━━━━━━━━┳━━━━━━━━┓\n",
       "┃\u001b[1;35m \u001b[0m\u001b[1;35m  \u001b[0m\u001b[1;35m \u001b[0m┃\u001b[1;35m \u001b[0m\u001b[1;35mName     \u001b[0m\u001b[1;35m \u001b[0m┃\u001b[1;35m \u001b[0m\u001b[1;35mType       \u001b[0m\u001b[1;35m \u001b[0m┃\u001b[1;35m \u001b[0m\u001b[1;35mParams\u001b[0m\u001b[1;35m \u001b[0m┃\n",
       "┡━━━━╇━━━━━━━━━━━╇━━━━━━━━━━━━━╇━━━━━━━━┩\n",
       "│\u001b[2m \u001b[0m\u001b[2m0 \u001b[0m\u001b[2m \u001b[0m│ encoder   │ Xception    │ 33.7 M │\n",
       "│\u001b[2m \u001b[0m\u001b[2m1 \u001b[0m\u001b[2m \u001b[0m│ aspp1     │ ASPP        │ 15.7 M │\n",
       "│\u001b[2m \u001b[0m\u001b[2m2 \u001b[0m\u001b[2m \u001b[0m│ aspp2     │ ASPP        │  8.1 M │\n",
       "│\u001b[2m \u001b[0m\u001b[2m3 \u001b[0m\u001b[2m \u001b[0m│ aspp3     │ ASPP        │  5.9 M │\n",
       "│\u001b[2m \u001b[0m\u001b[2m4 \u001b[0m\u001b[2m \u001b[0m│ aspp4     │ ASPP        │  2.4 M │\n",
       "│\u001b[2m \u001b[0m\u001b[2m5 \u001b[0m\u001b[2m \u001b[0m│ conv1     │ Conv2d      │  262 K │\n",
       "│\u001b[2m \u001b[0m\u001b[2m6 \u001b[0m\u001b[2m \u001b[0m│ bn1       │ BatchNorm2d │    512 │\n",
       "│\u001b[2m \u001b[0m\u001b[2m7 \u001b[0m\u001b[2m \u001b[0m│ relu1     │ ReLU        │      0 │\n",
       "│\u001b[2m \u001b[0m\u001b[2m8 \u001b[0m\u001b[2m \u001b[0m│ conv2     │ Conv2d      │  6.1 K │\n",
       "│\u001b[2m \u001b[0m\u001b[2m9 \u001b[0m\u001b[2m \u001b[0m│ bn2       │ BatchNorm2d │     96 │\n",
       "│\u001b[2m \u001b[0m\u001b[2m10\u001b[0m\u001b[2m \u001b[0m│ relu2     │ ReLU        │      0 │\n",
       "│\u001b[2m \u001b[0m\u001b[2m11\u001b[0m\u001b[2m \u001b[0m│ last_conv │ Sequential  │  1.3 M │\n",
       "└────┴───────────┴─────────────┴────────┘\n"
      ]
     },
     "metadata": {},
     "output_type": "display_data"
    },
    {
     "data": {
      "text/html": [
       "<pre style=\"white-space:pre;overflow-x:auto;line-height:normal;font-family:Menlo,'DejaVu Sans Mono',consolas,'Courier New',monospace\"><span style=\"font-weight: bold\">Trainable params</span>: 67.5 M                                                                                           \n",
       "<span style=\"font-weight: bold\">Non-trainable params</span>: 0                                                                                            \n",
       "<span style=\"font-weight: bold\">Total params</span>: 67.5 M                                                                                               \n",
       "<span style=\"font-weight: bold\">Total estimated model params size (MB)</span>: 135                                                                        \n",
       "</pre>\n"
      ],
      "text/plain": [
       "\u001b[1mTrainable params\u001b[0m: 67.5 M                                                                                           \n",
       "\u001b[1mNon-trainable params\u001b[0m: 0                                                                                            \n",
       "\u001b[1mTotal params\u001b[0m: 67.5 M                                                                                               \n",
       "\u001b[1mTotal estimated model params size (MB)\u001b[0m: 135                                                                        \n"
      ]
     },
     "metadata": {},
     "output_type": "display_data"
    },
    {
     "data": {
      "application/vnd.jupyter.widget-view+json": {
       "model_id": "8b3757c202ad43a6a2a6e9588a3461cc",
       "version_major": 2,
       "version_minor": 0
      },
      "text/plain": [
       "Output()"
      ]
     },
     "metadata": {},
     "output_type": "display_data"
    },
    {
     "data": {
      "text/html": [
       "<pre style=\"white-space:pre;overflow-x:auto;line-height:normal;font-family:Menlo,'DejaVu Sans Mono',consolas,'Courier New',monospace\"></pre>\n"
      ],
      "text/plain": []
     },
     "metadata": {},
     "output_type": "display_data"
    },
    {
     "data": {
      "text/html": [
       "<pre style=\"white-space:pre;overflow-x:auto;line-height:normal;font-family:Menlo,'DejaVu Sans Mono',consolas,'Courier New',monospace\">\n",
       "</pre>\n"
      ],
      "text/plain": [
       "\n"
      ]
     },
     "metadata": {},
     "output_type": "display_data"
    }
   ],
   "source": [
    "model_name = \"attention\"\n",
    "model = Model(3)\n",
    "\n",
    "wandb_logger = WandbLogger(project=\"ClimateNet\")\n",
    "\n",
    "callbacks = [\n",
    "    EarlyStopping(\"val_mean_iou\", mode=\"max\", patience=10),\n",
    "    #ModelCheckpoint(monitor=\"val_mean_iou\", mode=\"max\"),\n",
    "    RichModelSummary(),\n",
    "    RichProgressBar(),\n",
    "]\n",
    "\n",
    "trainer = Trainer(accelerator=\"gpu\", auto_lr_find=True, callbacks=callbacks, devices=-1, logger=wandb_logger, max_epochs=100, log_every_n_steps=1, reload_dataloaders_every_n_epochs=1, precision=16)\n",
    "#trainer.tune(model, datamodule=data_module)\n",
    "trainer.fit(model, datamodule=data_module)"
   ]
  }
 ],
 "metadata": {
  "kernelspec": {
   "display_name": "Python 3 (ipykernel)",
   "language": "python",
   "name": "python3"
  },
  "language_info": {
   "codemirror_mode": {
    "name": "ipython",
    "version": 3
   },
   "file_extension": ".py",
   "mimetype": "text/x-python",
   "name": "python",
   "nbconvert_exporter": "python",
   "pygments_lexer": "ipython3",
   "version": "3.8.10"
  }
 },
 "nbformat": 4,
 "nbformat_minor": 5
}

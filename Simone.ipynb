{
 "cells": [
  {
   "cell_type": "code",
   "execution_count": 1,
   "id": "747b3047-f9a1-4e67-818f-e9801ce43182",
   "metadata": {},
   "outputs": [],
   "source": [
    "import os\n",
    "import math"
   ]
  },
  {
   "cell_type": "code",
   "execution_count": 2,
   "id": "5c023a2e-fea6-4982-acf3-373ad10bf3b6",
   "metadata": {},
   "outputs": [],
   "source": [
    "import torch\n",
    "import torch.nn as nn\n",
    "import torch.nn.functional as F"
   ]
  },
  {
   "cell_type": "code",
   "execution_count": 3,
   "id": "e2c2f703-2240-4c54-a89d-b8dfdf323805",
   "metadata": {},
   "outputs": [],
   "source": [
    "import pytorch_lightning as pl\n",
    "from pytorch_lightning.callbacks import EarlyStopping, ModelCheckpoint, RichModelSummary, RichProgressBar\n",
    "from pytorch_lightning.loggers import TensorBoardLogger, WandbLogger\n",
    "from pytorch_lightning import Trainer\n",
    "from torchvision.ops import generalized_box_iou\n",
    "import wandb"
   ]
  },
  {
   "cell_type": "code",
   "execution_count": 4,
   "id": "4863996c-8e6d-4679-993b-8d5da364259c",
   "metadata": {},
   "outputs": [],
   "source": [
    "from config import config\n",
    "from src.data_module import ClimateNetDataModule\n",
    "from src.utils import Generic\n",
    "from src.models.manager import get_model"
   ]
  },
  {
   "cell_type": "code",
   "execution_count": 5,
   "id": "bdbc561b-e215-4d38-ab74-93e08d1fa3f6",
   "metadata": {},
   "outputs": [
    {
     "data": {
      "text/plain": [
       "['../autodl-nas/ClimateNet/data-2002-03-31-01-1_4.nc',\n",
       " '../autodl-nas/ClimateNet/data-1997-08-29-01-1_0.nc',\n",
       " '../autodl-nas/ClimateNet/data-2001-10-29-01-1_2.nc',\n",
       " '../autodl-nas/ClimateNet/data-2003-08-04-01-1_1.nc',\n",
       " '../autodl-nas/ClimateNet/data-2011-08-08-01-1_1.nc',\n",
       " '../autodl-nas/ClimateNet/data-2006-10-15-01-1_4.nc',\n",
       " '../autodl-nas/ClimateNet/data-2001-10-29-01-1_3.nc',\n",
       " '../autodl-nas/ClimateNet/data-2010-07-05-01-1_0.nc',\n",
       " '../autodl-nas/ClimateNet/data-1999-09-03-01-1_0.nc',\n",
       " '../autodl-nas/ClimateNet/data-2010-09-09-01-1_0.nc']"
      ]
     },
     "execution_count": 5,
     "metadata": {},
     "output_type": "execute_result"
    }
   ],
   "source": [
    "data_dir = \"../autodl-nas/ClimateNet/\"\n",
    "files = Generic.list_files(data_dir)\n",
    "files[:10]"
   ]
  },
  {
   "cell_type": "code",
   "execution_count": 6,
   "id": "bb6fa996-9841-4af5-a43f-e7641db80ed1",
   "metadata": {},
   "outputs": [
    {
     "data": {
      "text/plain": [
       "['TMQ', 'U850', 'V850', 'PRECT']"
      ]
     },
     "execution_count": 6,
     "metadata": {},
     "output_type": "execute_result"
    }
   ],
   "source": [
    "feature_list = config[\"feature_list\"]\n",
    "feature_list"
   ]
  },
  {
   "cell_type": "code",
   "execution_count": 7,
   "id": "8d4d287e-5d60-4244-a55e-8bab033bfbdb",
   "metadata": {},
   "outputs": [],
   "source": [
    "data_module = ClimateNetDataModule(files, feature_list, 16, num_workers=4, shuffle=True)"
   ]
  },
  {
   "cell_type": "code",
   "execution_count": 8,
   "id": "ea2ce173-f9ad-4e48-93fa-4379cc2f6f4e",
   "metadata": {},
   "outputs": [
    {
     "data": {
      "text/plain": [
       "torch.Size([32, 3, 1, 1])"
      ]
     },
     "execution_count": 8,
     "metadata": {},
     "output_type": "execute_result"
    }
   ],
   "source": [
    "ap = nn.Sequential(\n",
    "            nn.AdaptiveAvgPool2d((1, 1)),\n",
    "            nn.Conv2d(3, 3, kernel_size=1, bias=False),\n",
    "            nn.BatchNorm2d(3),\n",
    "            nn.ReLU(),\n",
    "        )\n",
    "tensor = torch.rand(32, 3, 256, 256)\n",
    "ap(tensor).shape"
   ]
  },
  {
   "cell_type": "markdown",
   "id": "868c6616-516f-4290-9159-c24e5560a6ff",
   "metadata": {},
   "source": [
    "# DeepLabV3+ with Attention"
   ]
  },
  {
   "cell_type": "code",
   "execution_count": 9,
   "id": "04fa1dde-a67e-46af-a241-f67ba67bdc63",
   "metadata": {},
   "outputs": [
    {
     "name": "stderr",
     "output_type": "stream",
     "text": [
      "Failed to detect the name of this notebook, you can set it manually with the WANDB_NOTEBOOK_NAME environment variable to enable code saving.\n",
      "\u001b[34m\u001b[1mwandb\u001b[0m: Currently logged in as: \u001b[33mzhf231298\u001b[0m. Use \u001b[1m`wandb login --relogin`\u001b[0m to force relogin\n"
     ]
    },
    {
     "data": {
      "application/vnd.jupyter.widget-view+json": {
       "model_id": "5d341947f450433c9230f6f80322eb30",
       "version_major": 2,
       "version_minor": 0
      },
      "text/plain": [
       "VBox(children=(Label(value='Waiting for wandb.init()...\\r'), FloatProgress(value=0.016669445919493833, max=1.0…"
      ]
     },
     "metadata": {},
     "output_type": "display_data"
    },
    {
     "data": {
      "text/html": [
       "wandb version 0.13.6 is available!  To upgrade, please run:\n",
       " $ pip install wandb --upgrade"
      ],
      "text/plain": [
       "<IPython.core.display.HTML object>"
      ]
     },
     "metadata": {},
     "output_type": "display_data"
    },
    {
     "data": {
      "text/html": [
       "Tracking run with wandb version 0.13.5"
      ],
      "text/plain": [
       "<IPython.core.display.HTML object>"
      ]
     },
     "metadata": {},
     "output_type": "display_data"
    },
    {
     "data": {
      "text/html": [
       "Run data is saved locally in <code>./wandb/run-20221215_020638-3996dumw</code>"
      ],
      "text/plain": [
       "<IPython.core.display.HTML object>"
      ]
     },
     "metadata": {},
     "output_type": "display_data"
    },
    {
     "data": {
      "text/html": [
       "Syncing run <strong><a href=\"https://wandb.ai/zhf231298/ClimateNet/runs/3996dumw\" target=\"_blank\">crisp-feather-47</a></strong> to <a href=\"https://wandb.ai/zhf231298/ClimateNet\" target=\"_blank\">Weights & Biases</a> (<a href=\"https://wandb.me/run\" target=\"_blank\">docs</a>)<br/>"
      ],
      "text/plain": [
       "<IPython.core.display.HTML object>"
      ]
     },
     "metadata": {},
     "output_type": "display_data"
    },
    {
     "name": "stderr",
     "output_type": "stream",
     "text": [
      "Using 16bit native Automatic Mixed Precision (AMP)\n",
      "Trainer already configured with model summary callbacks: [<class 'pytorch_lightning.callbacks.rich_model_summary.RichModelSummary'>]. Skipping setting a default `ModelSummary` callback.\n",
      "GPU available: True (cuda), used: True\n",
      "TPU available: False, using: 0 TPU cores\n",
      "IPU available: False, using: 0 IPUs\n",
      "HPU available: False, using: 0 HPUs\n",
      "LOCAL_RANK: 0 - CUDA_VISIBLE_DEVICES: [0]\n"
     ]
    },
    {
     "data": {
      "text/html": [
       "<pre style=\"white-space:pre;overflow-x:auto;line-height:normal;font-family:Menlo,'DejaVu Sans Mono',consolas,'Courier New',monospace\">┏━━━━┳━━━━━━━━━━━┳━━━━━━━━━━━━━┳━━━━━━━━┓\n",
       "┃<span style=\"color: #800080; text-decoration-color: #800080; font-weight: bold\">    </span>┃<span style=\"color: #800080; text-decoration-color: #800080; font-weight: bold\"> Name      </span>┃<span style=\"color: #800080; text-decoration-color: #800080; font-weight: bold\"> Type        </span>┃<span style=\"color: #800080; text-decoration-color: #800080; font-weight: bold\"> Params </span>┃\n",
       "┡━━━━╇━━━━━━━━━━━╇━━━━━━━━━━━━━╇━━━━━━━━┩\n",
       "│<span style=\"color: #7f7f7f; text-decoration-color: #7f7f7f\"> 0  </span>│ encoder   │ Xception    │ 33.7 M │\n",
       "│<span style=\"color: #7f7f7f; text-decoration-color: #7f7f7f\"> 1  </span>│ aspp1     │ ASPP        │ 15.7 M │\n",
       "│<span style=\"color: #7f7f7f; text-decoration-color: #7f7f7f\"> 2  </span>│ aspp2     │ ASPP        │  8.1 M │\n",
       "│<span style=\"color: #7f7f7f; text-decoration-color: #7f7f7f\"> 3  </span>│ aspp3     │ ASPP        │  5.9 M │\n",
       "│<span style=\"color: #7f7f7f; text-decoration-color: #7f7f7f\"> 4  </span>│ aspp4     │ ASPP        │  2.4 M │\n",
       "│<span style=\"color: #7f7f7f; text-decoration-color: #7f7f7f\"> 5  </span>│ conv1     │ Conv2d      │  262 K │\n",
       "│<span style=\"color: #7f7f7f; text-decoration-color: #7f7f7f\"> 6  </span>│ bn1       │ BatchNorm2d │    512 │\n",
       "│<span style=\"color: #7f7f7f; text-decoration-color: #7f7f7f\"> 7  </span>│ relu1     │ ReLU        │      0 │\n",
       "│<span style=\"color: #7f7f7f; text-decoration-color: #7f7f7f\"> 8  </span>│ conv2     │ Conv2d      │  6.1 K │\n",
       "│<span style=\"color: #7f7f7f; text-decoration-color: #7f7f7f\"> 9  </span>│ bn2       │ BatchNorm2d │     96 │\n",
       "│<span style=\"color: #7f7f7f; text-decoration-color: #7f7f7f\"> 10 </span>│ relu2     │ ReLU        │      0 │\n",
       "│<span style=\"color: #7f7f7f; text-decoration-color: #7f7f7f\"> 11 </span>│ last_conv │ Sequential  │  1.3 M │\n",
       "└────┴───────────┴─────────────┴────────┘\n",
       "</pre>\n"
      ],
      "text/plain": [
       "┏━━━━┳━━━━━━━━━━━┳━━━━━━━━━━━━━┳━━━━━━━━┓\n",
       "┃\u001b[1;35m \u001b[0m\u001b[1;35m  \u001b[0m\u001b[1;35m \u001b[0m┃\u001b[1;35m \u001b[0m\u001b[1;35mName     \u001b[0m\u001b[1;35m \u001b[0m┃\u001b[1;35m \u001b[0m\u001b[1;35mType       \u001b[0m\u001b[1;35m \u001b[0m┃\u001b[1;35m \u001b[0m\u001b[1;35mParams\u001b[0m\u001b[1;35m \u001b[0m┃\n",
       "┡━━━━╇━━━━━━━━━━━╇━━━━━━━━━━━━━╇━━━━━━━━┩\n",
       "│\u001b[2m \u001b[0m\u001b[2m0 \u001b[0m\u001b[2m \u001b[0m│ encoder   │ Xception    │ 33.7 M │\n",
       "│\u001b[2m \u001b[0m\u001b[2m1 \u001b[0m\u001b[2m \u001b[0m│ aspp1     │ ASPP        │ 15.7 M │\n",
       "│\u001b[2m \u001b[0m\u001b[2m2 \u001b[0m\u001b[2m \u001b[0m│ aspp2     │ ASPP        │  8.1 M │\n",
       "│\u001b[2m \u001b[0m\u001b[2m3 \u001b[0m\u001b[2m \u001b[0m│ aspp3     │ ASPP        │  5.9 M │\n",
       "│\u001b[2m \u001b[0m\u001b[2m4 \u001b[0m\u001b[2m \u001b[0m│ aspp4     │ ASPP        │  2.4 M │\n",
       "│\u001b[2m \u001b[0m\u001b[2m5 \u001b[0m\u001b[2m \u001b[0m│ conv1     │ Conv2d      │  262 K │\n",
       "│\u001b[2m \u001b[0m\u001b[2m6 \u001b[0m\u001b[2m \u001b[0m│ bn1       │ BatchNorm2d │    512 │\n",
       "│\u001b[2m \u001b[0m\u001b[2m7 \u001b[0m\u001b[2m \u001b[0m│ relu1     │ ReLU        │      0 │\n",
       "│\u001b[2m \u001b[0m\u001b[2m8 \u001b[0m\u001b[2m \u001b[0m│ conv2     │ Conv2d      │  6.1 K │\n",
       "│\u001b[2m \u001b[0m\u001b[2m9 \u001b[0m\u001b[2m \u001b[0m│ bn2       │ BatchNorm2d │     96 │\n",
       "│\u001b[2m \u001b[0m\u001b[2m10\u001b[0m\u001b[2m \u001b[0m│ relu2     │ ReLU        │      0 │\n",
       "│\u001b[2m \u001b[0m\u001b[2m11\u001b[0m\u001b[2m \u001b[0m│ last_conv │ Sequential  │  1.3 M │\n",
       "└────┴───────────┴─────────────┴────────┘\n"
      ]
     },
     "metadata": {},
     "output_type": "display_data"
    },
    {
     "data": {
      "text/html": [
       "<pre style=\"white-space:pre;overflow-x:auto;line-height:normal;font-family:Menlo,'DejaVu Sans Mono',consolas,'Courier New',monospace\"><span style=\"font-weight: bold\">Trainable params</span>: 67.5 M                                                                                           \n",
       "<span style=\"font-weight: bold\">Non-trainable params</span>: 0                                                                                            \n",
       "<span style=\"font-weight: bold\">Total params</span>: 67.5 M                                                                                               \n",
       "<span style=\"font-weight: bold\">Total estimated model params size (MB)</span>: 135                                                                        \n",
       "</pre>\n"
      ],
      "text/plain": [
       "\u001b[1mTrainable params\u001b[0m: 67.5 M                                                                                           \n",
       "\u001b[1mNon-trainable params\u001b[0m: 0                                                                                            \n",
       "\u001b[1mTotal params\u001b[0m: 67.5 M                                                                                               \n",
       "\u001b[1mTotal estimated model params size (MB)\u001b[0m: 135                                                                        \n"
      ]
     },
     "metadata": {},
     "output_type": "display_data"
    },
    {
     "data": {
      "application/vnd.jupyter.widget-view+json": {
       "model_id": "10ae22a6805a4e2ebf374a7cbee3b663",
       "version_major": 2,
       "version_minor": 0
      },
      "text/plain": [
       "Output()"
      ]
     },
     "metadata": {},
     "output_type": "display_data"
    },
    {
     "name": "stderr",
     "output_type": "stream",
     "text": [
      "`Trainer.fit` stopped: `max_epochs=50` reached.\n"
     ]
    },
    {
     "data": {
      "text/html": [
       "<pre style=\"white-space:pre;overflow-x:auto;line-height:normal;font-family:Menlo,'DejaVu Sans Mono',consolas,'Courier New',monospace\"></pre>\n"
      ],
      "text/plain": []
     },
     "metadata": {},
     "output_type": "display_data"
    },
    {
     "data": {
      "text/html": [
       "<pre style=\"white-space:pre;overflow-x:auto;line-height:normal;font-family:Menlo,'DejaVu Sans Mono',consolas,'Courier New',monospace\">\n",
       "</pre>\n"
      ],
      "text/plain": [
       "\n"
      ]
     },
     "metadata": {},
     "output_type": "display_data"
    }
   ],
   "source": [
    "model_name = \"attention\"\n",
    "model = get_model(\"attention\")\n",
    "\n",
    "wandb_logger = WandbLogger(project=\"ClimateNet\")\n",
    "\n",
    "callbacks = [\n",
    "    #EarlyStopping(\"val_mean_iou\", mode=\"max\", patience=10),\n",
    "    #ModelCheckpoint(monitor=\"val_mean_iou\", mode=\"max\"),\n",
    "    RichModelSummary(),\n",
    "    RichProgressBar(),\n",
    "]\n",
    "\n",
    "trainer = Trainer(accelerator=\"gpu\", auto_lr_find=True, callbacks=callbacks, devices=-1, logger=wandb_logger, max_epochs=50, log_every_n_steps=1, reload_dataloaders_every_n_epochs=1, precision=16)\n",
    "#trainer.tune(model, datamodule=data_module)\n",
    "trainer.fit(model, datamodule=data_module)"
   ]
  },
  {
   "cell_type": "code",
   "execution_count": 10,
   "id": "6819ad83-a0ee-4ee3-8b5c-b3f8cf48b11d",
   "metadata": {},
   "outputs": [
    {
     "data": {
      "text/html": [
       "Waiting for W&B process to finish... <strong style=\"color:green\">(success).</strong>"
      ],
      "text/plain": [
       "<IPython.core.display.HTML object>"
      ]
     },
     "metadata": {},
     "output_type": "display_data"
    },
    {
     "data": {
      "application/vnd.jupyter.widget-view+json": {
       "model_id": "c8d477bd2936402c90db238d50430c17",
       "version_major": 2,
       "version_minor": 0
      },
      "text/plain": [
       "VBox(children=(Label(value='0.014 MB of 0.014 MB uploaded (0.000 MB deduped)\\r'), FloatProgress(value=1.0, max…"
      ]
     },
     "metadata": {},
     "output_type": "display_data"
    },
    {
     "data": {
      "text/html": [
       "<style>\n",
       "    table.wandb td:nth-child(1) { padding: 0 10px; text-align: left ; width: auto;} td:nth-child(2) {text-align: left ; width: 100%}\n",
       "    .wandb-row { display: flex; flex-direction: row; flex-wrap: wrap; justify-content: flex-start; width: 100% }\n",
       "    .wandb-col { display: flex; flex-direction: column; flex-basis: 100%; flex: 1; padding: 10px; }\n",
       "    </style>\n",
       "<div class=\"wandb-row\"><div class=\"wandb-col\"><h3>Run history:</h3><br/><table class=\"wandb\"><tr><td>epoch</td><td>▁▁▁▁▂▂▂▂▂▃▃▃▃▃▃▄▄▄▄▄▅▅▅▅▅▅▆▆▆▆▆▇▇▇▇▇▇███</td></tr><tr><td>train_loss</td><td>█▅▄▄▄▄▄▃▄▃▃▃▃▂▂▃▂▂▃▂▂▂▂▁▂▂▁▂▂▁▁▂▁▂▁▂▂▁▁▁</td></tr><tr><td>trainer/global_step</td><td>▁▁▁▁▂▂▂▂▂▃▃▃▃▃▃▄▄▄▄▄▅▅▅▅▅▅▆▆▆▆▆▆▇▇▇▇▇███</td></tr><tr><td>val_ar_iou</td><td>▁▁▄▆▆▇▅██▅█▄▃▇▆▅▆▆▆▆▆▇▇▄▇▆▆▆▆▆▆▇▆▇▇▆▆▇▆▇</td></tr><tr><td>val_bg_iou</td><td>▃▆▆▆▇▇█▇▅▁▆▇▇▆▇▇▇▄▇▆█▆▇█▆▅▆▁▆▇▆▅▅▅▂▆▄▅▆▅</td></tr><tr><td>val_loss</td><td>▄▂▂▁▂▁▁▁▁▂▁▂▂▁▂▁▂▄▂▃▂▂▃▁▃▃▄▇▆▂▅▄█▅▅▅▅█▄▄</td></tr><tr><td>val_mean_iou</td><td>▁▁▅▇▆█▅██▆█▆▆█▇▇▇▇▇▇▇▇▇▆▇▇▇▆▆▆▆▇▆▆▇▆▇▆▇▇</td></tr><tr><td>val_tc_iou</td><td>▁▂▆▇▆█▆██▆██████▇▇█▇▇▇▇█▇▇▇▆▆▆▇▇▇▆▇▇▇▆▇▇</td></tr></table><br/></div><div class=\"wandb-col\"><h3>Run summary:</h3><br/><table class=\"wandb\"><tr><td>epoch</td><td>49</td></tr><tr><td>train_loss</td><td>0.06865</td></tr><tr><td>trainer/global_step</td><td>1149</td></tr><tr><td>val_ar_iou</td><td>0.35115</td></tr><tr><td>val_bg_iou</td><td>0.9448</td></tr><tr><td>val_loss</td><td>0.20247</td></tr><tr><td>val_mean_iou</td><td>0.5312</td></tr><tr><td>val_tc_iou</td><td>0.29765</td></tr></table><br/></div></div>"
      ],
      "text/plain": [
       "<IPython.core.display.HTML object>"
      ]
     },
     "metadata": {},
     "output_type": "display_data"
    },
    {
     "data": {
      "text/html": [
       "Synced <strong style=\"color:#cdcd00\">crisp-feather-47</strong>: <a href=\"https://wandb.ai/zhf231298/ClimateNet/runs/3996dumw\" target=\"_blank\">https://wandb.ai/zhf231298/ClimateNet/runs/3996dumw</a><br/>Synced 5 W&B file(s), 0 media file(s), 0 artifact file(s) and 0 other file(s)"
      ],
      "text/plain": [
       "<IPython.core.display.HTML object>"
      ]
     },
     "metadata": {},
     "output_type": "display_data"
    },
    {
     "data": {
      "text/html": [
       "Find logs at: <code>./wandb/run-20221215_020638-3996dumw/logs</code>"
      ],
      "text/plain": [
       "<IPython.core.display.HTML object>"
      ]
     },
     "metadata": {},
     "output_type": "display_data"
    }
   ],
   "source": [
    "wandb.finish()"
   ]
  }
 ],
 "metadata": {
  "kernelspec": {
   "display_name": "Python 3 (ipykernel)",
   "language": "python",
   "name": "python3"
  },
  "language_info": {
   "codemirror_mode": {
    "name": "ipython",
    "version": 3
   },
   "file_extension": ".py",
   "mimetype": "text/x-python",
   "name": "python",
   "nbconvert_exporter": "python",
   "pygments_lexer": "ipython3",
   "version": "3.8.10"
  },
  "vscode": {
   "interpreter": {
    "hash": "2f394aca7ca06fed1e6064aef884364492d7cdda3614a461e02e6407fc40ba69"
   }
  }
 },
 "nbformat": 4,
 "nbformat_minor": 5
}

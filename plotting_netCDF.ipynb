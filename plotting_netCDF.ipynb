{
 "cells": [
  {
   "cell_type": "markdown",
   "metadata": {},
   "source": [
    "# Plotting netCDF data with Python\n",
    "Notebook inspired by https://salishsea-meopar-docs.readthedocs.io/en/latest/work_env/python_notes.html."
   ]
  },
  {
   "cell_type": "code",
   "execution_count": null,
   "metadata": {},
   "outputs": [],
   "source": [
    "import matplotlib.pyplot as plt\n",
    "import netCDF4 as nc\n",
    "import os\n",
    "from pathlib import Path\n",
    "\n",
    "from salishsea_tools import viz_tools, nc_tools\n",
    "\n",
    "import ipywidgets as widgets"
   ]
  },
  {
   "cell_type": "code",
   "execution_count": null,
   "metadata": {},
   "outputs": [],
   "source": [
    "%matplotlib inline"
   ]
  },
  {
   "cell_type": "code",
   "execution_count": null,
   "metadata": {},
   "outputs": [],
   "source": [
    "data_path = Path('/mnt/data/ai4good/climatenet_new/train')"
   ]
  },
  {
   "cell_type": "code",
   "execution_count": null,
   "metadata": {},
   "outputs": [],
   "source": [
    "# Drop down to choose sample and variable\n",
    "# can't plot lat, lon, time\n",
    "variables = ['TMQ', 'U850', 'V850', 'UBOT', 'VBOT', 'QREFHT', 'PS', 'PSL', 'T200', 'T500', 'PRECT', 'TS', 'TREFHT', 'Z1000', 'Z200', 'ZBOT', 'LABELS']\n",
    "files = os.listdir(data_path)\n",
    "var = widgets.Dropdown(\n",
    "    options=list(variables),\n",
    "    value='TMQ',\n",
    "    description='Variable:',\n",
    "    disabled=False,\n",
    ")\n",
    "file = widgets.Dropdown(\n",
    "    options=list(files),\n",
    "    value=files[0],\n",
    "    description='Sample:',\n",
    "    disabled=False,\n",
    ")"
   ]
  },
  {
   "cell_type": "code",
   "execution_count": null,
   "metadata": {},
   "outputs": [],
   "source": [
    "# Show the selected variable interactively\n",
    "def show_var(file, var):\n",
    "    plt.subplots(1, 1, figsize=(10, 8))\n",
    "    ds = nc.Dataset(data_path / file)\n",
    "    vars = ds.variables[var] # pick a variable\n",
    "    if (len(vars.shape) == 3):\n",
    "        vars = vars[0, :, :]\n",
    "    plt.pcolormesh(vars)\n",
    "    plt.title(str(var) + \" \" + str(ds.variables[\"time\"][0]))\n",
    "widgets.interact(show_var, file=file, var=var)"
   ]
  }
 ],
 "metadata": {
  "kernelspec": {
   "display_name": "Python 3.10.7 64-bit",
   "language": "python",
   "name": "python3"
  },
  "language_info": {
   "codemirror_mode": {
    "name": "ipython",
    "version": 3
   },
   "file_extension": ".py",
   "mimetype": "text/x-python",
   "name": "python",
   "nbconvert_exporter": "python",
   "pygments_lexer": "ipython3",
   "version": "3.10.7"
  },
  "orig_nbformat": 4,
  "vscode": {
   "interpreter": {
    "hash": "949777d72b0d2535278d3dc13498b2535136f6dfe0678499012e853ee9abcab1"
   }
  }
 },
 "nbformat": 4,
 "nbformat_minor": 2
}

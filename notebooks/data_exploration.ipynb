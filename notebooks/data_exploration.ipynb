{
 "cells": [
  {
   "cell_type": "markdown",
   "metadata": {},
   "source": [
    "# ClimateNet Dataset\n",
    "\n",
    "In this notebook, we demonstrate how the ClimateNet dataset can be loaded using the xarray library.\n",
    "Furthermore, we analyze the dataset by calculating several useful statistics and visualizing interesting samples."
   ]
  },
  {
   "cell_type": "code",
   "execution_count": null,
   "metadata": {},
   "outputs": [],
   "source": [
    "from pathlib import Path\n",
    "\n",
    "# specify the path to the data and output directories\n",
    "out_dir = Path('/mnt/data/ai4good/out')\n",
    "data_dir = Path('/mnt/data/ai4good/climatenet_new')  # expected to have a subfolder 'train' containing the train set\n",
    "train_dir = data_dir / 'train'\n",
    "test_dir = data_dir / 'test'"
   ]
  },
  {
   "cell_type": "markdown",
   "metadata": {},
   "source": [
    "## Introduction to xarray\n",
    "\n",
    "Xarray is a python library to facilitate working with labelled multi-dimensional arrays.\n",
    "NetCDF is the recommended file fromat for xarray objects. The xarray Dataset data model is inspired by the one of a netCDF file.\n",
    "\n",
    "**Resources:**\n",
    "- [Xarray documentation](https://docs.xarray.dev/en/stable/getting-started-guide/quick-overview.html)\n",
    "- [NetCDF CF Metadata Conventions](https://cfconventions.org/cf-conventions/cf-conventions.html)"
   ]
  },
  {
   "cell_type": "code",
   "execution_count": null,
   "metadata": {},
   "outputs": [],
   "source": [
    "import xarray as xr"
   ]
  },
  {
   "cell_type": "markdown",
   "metadata": {},
   "source": [
    "NetCDF files can conveniently be loaded and investigated as an xarray dataset."
   ]
  },
  {
   "cell_type": "code",
   "execution_count": null,
   "metadata": {},
   "outputs": [],
   "source": [
    "example_file = 'data-2000-12-20-01-1_5.nc'\n",
    "example_ds = xr.load_dataset(train_dir / example_file)  # example dataset containg a single sample"
   ]
  },
  {
   "cell_type": "code",
   "execution_count": null,
   "metadata": {},
   "outputs": [],
   "source": [
    "example_ds"
   ]
  },
  {
   "cell_type": "code",
   "execution_count": null,
   "metadata": {},
   "outputs": [],
   "source": [
    "example_ds_dims = example_ds.dims\n",
    "example_ds_coords = example_ds.coords\n",
    "example_ds_vars = example_ds.data_vars\n",
    "\n",
    "print(f'Dimensions of the example dataset: {example_ds_dims}\\n')\n",
    "print(f'Coordinates of the example dataset: {example_ds_coords}\\n')\n",
    "print(f'Variables of the example dataset: {example_ds_vars}\\n')"
   ]
  },
  {
   "cell_type": "markdown",
   "metadata": {},
   "source": [
    "There are four different approaches to [indexing an xarray dataset](https://docs.xarray.dev/en/stable/getting-started-guide/quick-overview.html#indexing):\n",
    "- positional and by integer label, like numpy\n",
    "- loc or \"location\": positional and coordinate label, like pandas\n",
    "- isel or \"integer select\":  by dimension name and integer label\n",
    "- sel or \"select\": by dimension name and coordinate label"
   ]
  },
  {
   "cell_type": "code",
   "execution_count": null,
   "metadata": {},
   "outputs": [],
   "source": [
    "example_var = 'TMQ'\n",
    "example_desc = example_ds[example_var].attrs['description']\n",
    "like_np = example_ds['TMQ'][0,0,0].values\n",
    "like_pandas = example_ds['TMQ'].loc[\n",
    "    dict(\n",
    "        time='data-2000-12-20-01-1.nc',\n",
    "        lat=-90.0,\n",
    "        lon=0.0\n",
    ")].values\n",
    "isel = example_ds['TMQ'].isel(time=0, lat=0, lon=0).values\n",
    "sel = example_ds['TMQ'].sel(time='data-2000-12-20-01-1.nc', lat=-90.0, lon=0.0).values\n",
    "\n",
    "print(f'The different queries for {example_var} return the same value (as they should):')\n",
    "print(f'like_np: {like_np}')\n",
    "print(f'like_pandas: {like_pandas}')\n",
    "print(f'isel: {isel}')\n",
    "print(f'sel: {sel}')\n",
    "print(f'\\nWe also can print the description of the variable {example_var}:\\n{example_desc}')"
   ]
  },
  {
   "cell_type": "markdown",
   "metadata": {},
   "source": [
    "Computation on xarray data arrays works just like with numpy.\n",
    "We can print some useful stats about our labels."
   ]
  },
  {
   "cell_type": "code",
   "execution_count": null,
   "metadata": {},
   "outputs": [],
   "source": [
    "import numpy as np\n",
    "\n",
    "example_labels = example_ds['LABELS'].values\n",
    "example_labels_max = np.max(example_labels)\n",
    "example_labels_min = np.min(example_labels)\n",
    "example_labels_mean = np.mean(example_labels)\n",
    "example_labels_std = np.std(example_labels)\n",
    "\n",
    "print(f'The labels have a maximum value of {example_labels_max}, a minimum value of {example_labels_min}, a mean of {example_labels_mean} and a standard deviation of {example_labels_std}.')"
   ]
  },
  {
   "cell_type": "markdown",
   "metadata": {},
   "source": [
    "And just like in pandas, xarray supports gropued operations. The code cell below prints the mean total (vertically integrated) precipitable water for each of the classes."
   ]
  },
  {
   "cell_type": "code",
   "execution_count": null,
   "metadata": {},
   "outputs": [],
   "source": [
    "example_ds['TMQ'].groupby(example_ds['LABELS']).mean()"
   ]
  },
  {
   "cell_type": "markdown",
   "metadata": {},
   "source": [
    "Last but not least, we can easily plot xarray data arrays as such:"
   ]
  },
  {
   "cell_type": "code",
   "execution_count": null,
   "metadata": {},
   "outputs": [],
   "source": [
    "example_ds['LABELS'].plot()"
   ]
  },
  {
   "cell_type": "markdown",
   "metadata": {},
   "source": [
    "## ClimateNet Dataset Analysis"
   ]
  },
  {
   "cell_type": "markdown",
   "metadata": {},
   "source": []
  }
 ],
 "metadata": {
  "kernelspec": {
   "display_name": "Python 3.10.7 64-bit",
   "language": "python",
   "name": "python3"
  },
  "language_info": {
   "codemirror_mode": {
    "name": "ipython",
    "version": 3
   },
   "file_extension": ".py",
   "mimetype": "text/x-python",
   "name": "python",
   "nbconvert_exporter": "python",
   "pygments_lexer": "ipython3",
   "version": "3.10.7"
  },
  "orig_nbformat": 4,
  "vscode": {
   "interpreter": {
    "hash": "949777d72b0d2535278d3dc13498b2535136f6dfe0678499012e853ee9abcab1"
   }
  }
 },
 "nbformat": 4,
 "nbformat_minor": 2
}

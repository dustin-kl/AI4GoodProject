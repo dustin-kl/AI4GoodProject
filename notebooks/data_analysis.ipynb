{
 "cells": [
  {
   "cell_type": "markdown",
   "metadata": {},
   "source": [
    "# Analyzing ClimateNet Dataset\n",
    "\n",
    "In this notebook we analyze the ClimateNet dataset by computing several useful statistics and visualizing interesting examples."
   ]
  },
  {
   "cell_type": "code",
   "execution_count": null,
   "metadata": {},
   "outputs": [],
   "source": [
    "from pathlib import Path\n",
    "\n",
    "# specify the path to the data and output directories\n",
    "out_dir = Path('/mnt/data/ai4good/out')\n",
    "data_dir = Path('/mnt/data/ai4good/climatenet_new')  # expected to have a subfolder 'train' containing the train set\n",
    "train_dir = data_dir / 'train'\n",
    "test_dir = data_dir / 'test'"
   ]
  },
  {
   "cell_type": "markdown",
   "metadata": {},
   "source": [
    "##  Data Exploration\n",
    "\n",
    "First, we load the available train data and explore it a bit."
   ]
  },
  {
   "cell_type": "code",
   "execution_count": null,
   "metadata": {},
   "outputs": [],
   "source": [
    "from utils.data import ClimateNetDataset\n",
    "import xarray as xr\n",
    "import numpy as np\n",
    "\n",
    "ds = ClimateNetDataset(train_dir)\n",
    "\n",
    "concat_ds = []\n",
    "for i in np.random.randint(0, len(ds), 3):\n",
    "    x = ds[i]\n",
    "    concat_ds.append(x)\n",
    "\n",
    "concat_ds = xr.concat(concat_ds, dim='time')\n",
    "\n",
    "len(ds)\n",
    "len(concat_ds)"
   ]
  },
  {
   "cell_type": "code",
   "execution_count": null,
   "metadata": {},
   "outputs": [],
   "source": [
    "sample = ds[0]\n",
    "sample"
   ]
  },
  {
   "cell_type": "code",
   "execution_count": null,
   "metadata": {},
   "outputs": [],
   "source": [
    "sample.dims"
   ]
  },
  {
   "cell_type": "code",
   "execution_count": null,
   "metadata": {},
   "outputs": [],
   "source": [
    "sample.coords"
   ]
  },
  {
   "cell_type": "code",
   "execution_count": null,
   "metadata": {},
   "outputs": [],
   "source": [
    "for var in sample.data_vars:\n",
    "    if var == 'LABELS':\n",
    "        print(f'{var}: {sample[var].attrs[\"description\"]} ({sample[var].dtype})')\n",
    "    else:\n",
    "        print(f'{var}: {sample[var].attrs[\"description\"]} ({sample[var].attrs[\"units\"]}) ({sample[var].dtype})')"
   ]
  },
  {
   "cell_type": "code",
   "execution_count": null,
   "metadata": {},
   "outputs": [],
   "source": [
    "import ipywidgets as widgets\n",
    "variables = list(sample.data_vars)\n",
    "var_dropdown = widgets.Dropdown(options=variables, value=variables[0], description='Variable')\n",
    "\n",
    "def plot_sample(var):\n",
    "    sample[var].plot(figsize=(10,5))\n",
    "\n",
    "widgets.interact(plot_sample, var=var_dropdown);"
   ]
  },
  {
   "cell_type": "markdown",
   "metadata": {},
   "source": [
    "## Data Analysis"
   ]
  },
  {
   "cell_type": "code",
   "execution_count": null,
   "metadata": {},
   "outputs": [],
   "source": [
    "from utils.stats import Stats\n",
    "\n",
    "stats = Stats(ds=ds, num_samples=3)"
   ]
  },
  {
   "cell_type": "code",
   "execution_count": null,
   "metadata": {},
   "outputs": [],
   "source": [
    "bg, tc, ar = stats.get_label_distribution()\n",
    "bg = bg.sum()\n",
    "tc = tc.sum()\n",
    "ar = ar.sum()\n",
    "sum = bg + tc + ar\n",
    "\n",
    "print(f'Background: {bg.values} ({bg/sum*100:.2f}%)')\n",
    "print(f'Tropical Cyclone: {tc.values} ({tc/sum*100:.2f}%)')\n",
    "print(f'Atmospheric Rivers: {ar.values} ({ar/sum*100:.2f}%)')"
   ]
  },
  {
   "cell_type": "code",
   "execution_count": null,
   "metadata": {},
   "outputs": [],
   "source": [
    "cm = stats.get_corr_matrix()"
   ]
  },
  {
   "cell_type": "code",
   "execution_count": null,
   "metadata": {},
   "outputs": [],
   "source": [
    "import matplotlib.pyplot as plt\n",
    "import seaborn as sns\n",
    "import numpy as np\n",
    "\n",
    "fig, ax = plt.subplots(figsize=(10,10))\n",
    "sns.heatmap(abs(cm), ax=ax, xticklabels=stats.data_vars, yticklabels=stats.data_vars, cmap='RdBu_r', center=0, vmin=0, vmax=1)\n",
    "ax.set_xticklabels(ax.get_xticklabels(), rotation=45, ha='right')\n",
    "ax.set_yticklabels(ax.get_yticklabels(), rotation=0, ha='right')\n",
    "plt.show()"
   ]
  },
  {
   "cell_type": "code",
   "execution_count": null,
   "metadata": {},
   "outputs": [],
   "source": [
    "import ipywidgets as widgets\n",
    "variables = list(stats.data_vars)\n",
    "var_dropdown = widgets.Dropdown(options=variables, value=variables[0], description='Variable')\n",
    "\n",
    "def plot_sample(var):\n",
    "    var_stats = stats.get_stats(var)\n",
    "    for stat in var_stats:\n",
    "        print(f'{stat}: {var_stats[stat]}')\n",
    "\n",
    "widgets.interact(plot_sample, var=var_dropdown);"
   ]
  },
  {
   "cell_type": "code",
   "execution_count": null,
   "metadata": {},
   "outputs": [],
   "source": [
    "features = ['PSL', 'TMQ', 'U850', 'V850', 'T500', 'ZBOT']"
   ]
  },
  {
   "cell_type": "code",
   "execution_count": null,
   "metadata": {},
   "outputs": [],
   "source": [
    "cm_features = stats.get_corr_matrix_vars(features)"
   ]
  },
  {
   "cell_type": "code",
   "execution_count": null,
   "metadata": {},
   "outputs": [],
   "source": [
    "fig, ax = plt.subplots(figsize=(10,10))\n",
    "sns.heatmap(abs(cm_features), ax=ax, xticklabels=features, yticklabels=features, cmap='RdBu_r', center=0, vmin=0, vmax=1)\n",
    "ax.set_xticklabels(ax.get_xticklabels(), rotation=45, ha='right')\n",
    "ax.set_yticklabels(ax.get_yticklabels(), rotation=0, ha='right')\n",
    "plt.show()"
   ]
  },
  {
   "cell_type": "code",
   "execution_count": null,
   "metadata": {},
   "outputs": [],
   "source": []
  }
 ],
 "metadata": {
  "kernelspec": {
   "display_name": "Python 3.10.7 64-bit",
   "language": "python",
   "name": "python3"
  },
  "language_info": {
   "codemirror_mode": {
    "name": "ipython",
    "version": 3
   },
   "file_extension": ".py",
   "mimetype": "text/x-python",
   "name": "python",
   "nbconvert_exporter": "python",
   "pygments_lexer": "ipython3",
   "version": "3.10.8"
  },
  "orig_nbformat": 4,
  "vscode": {
   "interpreter": {
    "hash": "949777d72b0d2535278d3dc13498b2535136f6dfe0678499012e853ee9abcab1"
   }
  }
 },
 "nbformat": 4,
 "nbformat_minor": 2
}

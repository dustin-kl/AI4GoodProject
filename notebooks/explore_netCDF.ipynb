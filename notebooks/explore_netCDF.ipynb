{
 "cells": [
  {
   "cell_type": "markdown",
   "metadata": {},
   "source": [
    "# Exploring netCDF Files\n",
    "Notebook copied from https://salishsea-meopar-docs.readthedocs.io/en/latest/work_env/python_notes.html and adjusted for the ClimateNet (https://gmd.copernicus.org/articles/14/107/2021/) data set."
   ]
  },
  {
   "cell_type": "markdown",
   "metadata": {},
   "source": [
    "This notebook provides discussion, examples, and best practices for working with netCDF files in Python.\n",
    "Topics include:\n",
    "\n",
    "* The [`netcdf4-python`](http://http://unidata.github.io/netcdf4-python/) library\n",
    "* The [`salishsea_tools.nc_tools`](http://salishsea-meopar-tools.readthedocs.org/en/latest/SalishSeaTools/salishsea-tools.html#module-nc_tools) code module\n",
    "* Reading netCDF files into Python data structures\n",
    "* Exploring netCDF dataset dimensions, variables, and attributes\n",
    "* Working with netCDF variable data as [NumPy](http://www.numpy.org/) arrays"
   ]
  },
  {
   "cell_type": "markdown",
   "metadata": {},
   "source": [
    "The [`netcdf4-python`](http://unidata.github.io/netcdf4-python/) library\n",
    "does all of the heavy lifting to let us work with netCDF files and their data.\n",
    "Follow the link to get to the library documentation.\n",
    "The [salishsea_tools.nc_tools](http://salishsea-meopar-tools.readthedocs.org/en/latest/SalishSeaTools/salishsea-tools.html#module-nc_tools) code module provides some shortcut functions for exploring netCDF datasets.\n",
    "Let's go ahead and import those two packages,\n",
    "We'll also import `numpy` because we're going to use it later and it's good Python form\n",
    "to keep all of our imports at the top of the file.\n",
    "\n",
    "This notebook assumes that you are working in Python 3.\n",
    "If you don't have a Python 3 environment set up,\n",
    "please see our\n",
    "[Anaconda Python Distribution](http://salishsea-meopar-docs.readthedocs.org/en/latest/work_env/anaconda_python.html)\n",
    "docs for instructions on how to set one up."
   ]
  },
  {
   "cell_type": "code",
   "execution_count": null,
   "metadata": {
    "collapsed": false
   },
   "outputs": [],
   "source": [
    "import netCDF4 as nc\n",
    "import numpy as np\n",
    "\n",
    "from salishsea_tools import nc_tools"
   ]
  },
  {
   "cell_type": "markdown",
   "metadata": {},
   "source": [
    "Note that:\n",
    "\n",
    "* By convention, we alias `netCDF4` to `nc` and `numpy` to `np`\n",
    "so that we don't have to type as much\n",
    "* For the same reason we use the `from ... import ...` form to get `nc_tools`\n",
    "so that we can avoid typing `salishsea_tools.nc_tools` everywhere"
   ]
  },
  {
   "cell_type": "markdown",
   "metadata": {},
   "source": [
    "`netCDF` provides a `Dataset` object that allows us to load the contents\n",
    "of a netCDF file into a Python data structure by simply passing in the\n",
    "path and file name.\n",
    "Let's explore the Salish Sea NEMO model bathymetry data:"
   ]
  },
  {
   "cell_type": "code",
   "execution_count": null,
   "metadata": {
    "collapsed": false
   },
   "outputs": [],
   "source": [
    "ds = nc.Dataset('/mnt/data/ai4good/climatenet_new/train/data-2000-12-20-01-1_5.nc')"
   ]
  },
  {
   "cell_type": "markdown",
   "metadata": {},
   "source": [
    "netCDF files are organized around 4 big concepts:\n",
    "\n",
    "* groups\n",
    "* dimensions\n",
    "* variables\n",
    "* attributes\n",
    "\n",
    "NEMO doesn't use netCDF groups, so we'll ignore them.\n",
    "\n",
    "`nc_tools` provides useful (convenience) functions to look at the other 3."
   ]
  },
  {
   "cell_type": "code",
   "execution_count": null,
   "metadata": {
    "collapsed": false
   },
   "outputs": [],
   "source": [
    "nc_tools.show_dimensions(ds)"
   ]
  },
  {
   "cell_type": "markdown",
   "metadata": {},
   "source": [
    "- 3 dimension: `lat`, `lon`, `time`"
   ]
  },
  {
   "cell_type": "code",
   "execution_count": null,
   "metadata": {
    "collapsed": false
   },
   "outputs": [],
   "source": [
    "nc_tools.show_variables(ds)"
   ]
  },
  {
   "cell_type": "code",
   "execution_count": null,
   "metadata": {
    "collapsed": false
   },
   "outputs": [],
   "source": [
    "nc_tools.show_dataset_attrs(ds)"
   ]
  },
  {
   "cell_type": "markdown",
   "metadata": {},
   "source": [
    "netCDF attributes are metadata.\n",
    "In the cast of the dataset attributes they tell us about the dataset as a whole:\n",
    "how, when, and by whom it was created, how it has been modified, etc.\n",
    "The meanings of the various attributes and the conventions for them that we use\n",
    "in the Salish Sea MEOPAR project are documented [elsewhere](http://salishsea-meopar-docs.readthedocs.org/en/latest/code-notes/salishsea-nemo/nemo-forcing/netcdf4.html).\n",
    "Variables also have attributes and `nc_tools` provides a function to display them too:"
   ]
  },
  {
   "cell_type": "code",
   "execution_count": null,
   "metadata": {
    "collapsed": false
   },
   "outputs": [],
   "source": [
    "nc_tools.show_variable_attrs(ds, 'lat')"
   ]
  },
  {
   "cell_type": "code",
   "execution_count": null,
   "metadata": {
    "collapsed": false
   },
   "outputs": [],
   "source": [
    "nc_tools.show_variable_attrs(ds)"
   ]
  },
  {
   "cell_type": "markdown",
   "metadata": {},
   "source": [
    "Before we can go further exploring and working with the variables we need to\n",
    "associate them with Python variables names.\n",
    "We do that by accessing them by name in the `variables` attribute of our `Dataset` object.\n",
    "`variables` is a Python `dict`.\n",
    "We can use any Python variable names we like, so let's shorten them\n",
    "(being careful not to sacrifice readability for ease of typing):"
   ]
  },
  {
   "cell_type": "code",
   "execution_count": null,
   "metadata": {
    "collapsed": false
   },
   "outputs": [],
   "source": [
    "lons = ds.variables['lon']\n",
    "lats = ds.variables['lat']\n",
    "times = ds.variables['time']\n",
    "tmqs = ds.variables['TMQ']\n",
    "labels = ds.variables['LABELS']"
   ]
  },
  {
   "cell_type": "markdown",
   "metadata": {},
   "source": [
    "Our variables are instances of the `netCDF.Variable` object.\n",
    "In addition to their attributes, they carry a bunch of other\n",
    "useful properties and methods that you can read about in the netCDF4-python docs.\n",
    "Perhaps more importantly the data associated with the variables\n",
    "are stored as NumPy arrays.\n",
    "So, we can use NumPy indexing and slicing to access the data values.\n",
    "For instance, to get the latitudes and longitudes of the 4 corners of the domain:"
   ]
  },
  {
   "cell_type": "code",
   "execution_count": null,
   "metadata": {
    "collapsed": false
   },
   "outputs": [],
   "source": [
    "lons.shape, lats.shape, times.shape, tmqs.shape, labels.shape"
   ]
  },
  {
   "cell_type": "code",
   "execution_count": null,
   "metadata": {
    "collapsed": false
   },
   "outputs": [],
   "source": [
    "print('Latitudes and longitudes of domain corners:')\n",
    "print('  0, 0:        ', lats[0], lons[0])\n",
    "print('  y-max, x-max:', lats[-1], lons[-1])"
   ]
  },
  {
   "cell_type": "markdown",
   "metadata": {},
   "source": [
    "You can also access the entire variable data array, or subsets of it using slicing.\n",
    "The `[:]` slice notation is a convenient shorthand that means \"the entire array\"."
   ]
  },
  {
   "cell_type": "code",
   "execution_count": null,
   "metadata": {
    "collapsed": false
   },
   "outputs": [],
   "source": [
    "lats[:]"
   ]
  },
  {
   "cell_type": "code",
   "execution_count": null,
   "metadata": {
    "collapsed": false
   },
   "outputs": [],
   "source": [
    "lons[:]"
   ]
  },
  {
   "cell_type": "markdown",
   "metadata": {},
   "source": [
    "In some cases, like our bathymetry depths, \n",
    "the netCDF variable has a `_FillingValue` attribute value that is equal\n",
    "to values in the variable data.\n",
    "In that case the data are represented by a [NumPy Masked Array](http://docs.scipy.org/doc/numpy/reference/maskedarray.html) with the\n",
    "mask applied there the data values equal the `_FillingValue`:"
   ]
  },
  {
   "cell_type": "markdown",
   "metadata": {},
   "source": [
    "You can test to see if a variables data is masked like this:"
   ]
  },
  {
   "cell_type": "code",
   "execution_count": null,
   "metadata": {
    "collapsed": false
   },
   "outputs": [],
   "source": [
    "np.ma.is_masked(labels[:])"
   ]
  },
  {
   "cell_type": "markdown",
   "metadata": {},
   "source": [
    "Masked arrays are useful because require less storage than a comparable\n",
    "size fully populated array.\n",
    "Also, when masked arrays are plotted the maked values are all plotted\n",
    "in the same colour (white by default).\n",
    "We'll see in other example notebooks how this allows us to very easily \n",
    "plot our bathymetry in a meaningfully way,\n",
    "and use it,\n",
    "or other values to mask velocity component, salinity, etc. results so\n",
    "that they show values only in the water areas of the domain."
   ]
  }
 ],
 "metadata": {
  "kernelspec": {
   "display_name": "Python 3.10.7 64-bit",
   "language": "python",
   "name": "python3"
  },
  "language_info": {
   "codemirror_mode": {
    "name": "ipython",
    "version": 3
   },
   "file_extension": ".py",
   "mimetype": "text/x-python",
   "name": "python",
   "nbconvert_exporter": "python",
   "pygments_lexer": "ipython3",
   "version": "3.10.7"
  },
  "vscode": {
   "interpreter": {
    "hash": "949777d72b0d2535278d3dc13498b2535136f6dfe0678499012e853ee9abcab1"
   }
  }
 },
 "nbformat": 4,
 "nbformat_minor": 0
}
